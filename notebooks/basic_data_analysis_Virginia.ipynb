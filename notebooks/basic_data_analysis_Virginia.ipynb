{
 "cells": [
  {
   "cell_type": "code",
   "execution_count": 2,
   "metadata": {},
   "outputs": [],
   "source": [
    "import sys\n",
    "import os\n",
    "import pandas as pd\n",
    "import numpy as np\n",
    "module_path = os.path.abspath(os.path.join('..'))\n",
    "if module_path not in sys.path:\n",
    "    sys.path.append(module_path)\n",
    "\n",
    "import openpolicedata as opd"
   ]
  },
  {
   "cell_type": "markdown",
   "metadata": {},
   "source": [
    "Query for the entire table of available data"
   ]
  },
  {
   "cell_type": "code",
   "execution_count": 3,
   "metadata": {},
   "outputs": [
    {
     "data": {
      "text/html": [
       "<div>\n",
       "<style scoped>\n",
       "    .dataframe tbody tr th:only-of-type {\n",
       "        vertical-align: middle;\n",
       "    }\n",
       "\n",
       "    .dataframe tbody tr th {\n",
       "        vertical-align: top;\n",
       "    }\n",
       "\n",
       "    .dataframe thead th {\n",
       "        text-align: right;\n",
       "    }\n",
       "</style>\n",
       "<table border=\"1\" class=\"dataframe\">\n",
       "  <thead>\n",
       "    <tr style=\"text-align: right;\">\n",
       "      <th></th>\n",
       "      <th>State</th>\n",
       "      <th>SourceName</th>\n",
       "      <th>Jurisdiction</th>\n",
       "      <th>TableType</th>\n",
       "      <th>Year</th>\n",
       "      <th>Description</th>\n",
       "      <th>DataType</th>\n",
       "      <th>URL</th>\n",
       "      <th>date_field</th>\n",
       "      <th>dataset_id</th>\n",
       "      <th>jurisdiction_field</th>\n",
       "    </tr>\n",
       "  </thead>\n",
       "  <tbody>\n",
       "    <tr>\n",
       "      <th>0</th>\n",
       "      <td>Arizona</td>\n",
       "      <td>Gilbert</td>\n",
       "      <td>Gilbert</td>\n",
       "      <td>STOPS</td>\n",
       "      <td>MULTI</td>\n",
       "      <td>Standardized stop data from the Stanford Open ...</td>\n",
       "      <td>CSV</td>\n",
       "      <td>https://stacks.stanford.edu/file/druid:yg821jf...</td>\n",
       "      <td>date</td>\n",
       "      <td>&lt;NA&gt;</td>\n",
       "      <td>&lt;NA&gt;</td>\n",
       "    </tr>\n",
       "    <tr>\n",
       "      <th>1</th>\n",
       "      <td>Arizona</td>\n",
       "      <td>Mesa</td>\n",
       "      <td>Mesa</td>\n",
       "      <td>STOPS</td>\n",
       "      <td>MULTI</td>\n",
       "      <td>Standardized stop data from the Stanford Open ...</td>\n",
       "      <td>CSV</td>\n",
       "      <td>https://stacks.stanford.edu/file/druid:yg821jf...</td>\n",
       "      <td>date</td>\n",
       "      <td>&lt;NA&gt;</td>\n",
       "      <td>&lt;NA&gt;</td>\n",
       "    </tr>\n",
       "    <tr>\n",
       "      <th>2</th>\n",
       "      <td>Arizona</td>\n",
       "      <td>State Patrol</td>\n",
       "      <td>State Patrol</td>\n",
       "      <td>STOPS</td>\n",
       "      <td>MULTI</td>\n",
       "      <td>Standardized stop data from the Stanford Open ...</td>\n",
       "      <td>CSV</td>\n",
       "      <td>https://stacks.stanford.edu/file/druid:yg821jf...</td>\n",
       "      <td>date</td>\n",
       "      <td>&lt;NA&gt;</td>\n",
       "      <td>&lt;NA&gt;</td>\n",
       "    </tr>\n",
       "    <tr>\n",
       "      <th>3</th>\n",
       "      <td>Arkansas</td>\n",
       "      <td>Little Rock</td>\n",
       "      <td>Little Rock</td>\n",
       "      <td>TRAFFIC STOPS</td>\n",
       "      <td>MULTI</td>\n",
       "      <td>Standardized stop data from the Stanford Open ...</td>\n",
       "      <td>CSV</td>\n",
       "      <td>https://stacks.stanford.edu/file/druid:yg821jf...</td>\n",
       "      <td>date</td>\n",
       "      <td>&lt;NA&gt;</td>\n",
       "      <td>&lt;NA&gt;</td>\n",
       "    </tr>\n",
       "    <tr>\n",
       "      <th>4</th>\n",
       "      <td>California</td>\n",
       "      <td>Anaheim</td>\n",
       "      <td>Anaheim</td>\n",
       "      <td>TRAFFIC STOPS</td>\n",
       "      <td>MULTI</td>\n",
       "      <td>Standardized stop data from the Stanford Open ...</td>\n",
       "      <td>CSV</td>\n",
       "      <td>https://stacks.stanford.edu/file/druid:yg821jf...</td>\n",
       "      <td>date</td>\n",
       "      <td>&lt;NA&gt;</td>\n",
       "      <td>&lt;NA&gt;</td>\n",
       "    </tr>\n",
       "  </tbody>\n",
       "</table>\n",
       "</div>"
      ],
      "text/plain": [
       "        State    SourceName  Jurisdiction      TableType   Year  \\\n",
       "0     Arizona       Gilbert       Gilbert          STOPS  MULTI   \n",
       "1     Arizona          Mesa          Mesa          STOPS  MULTI   \n",
       "2     Arizona  State Patrol  State Patrol          STOPS  MULTI   \n",
       "3    Arkansas   Little Rock   Little Rock  TRAFFIC STOPS  MULTI   \n",
       "4  California       Anaheim       Anaheim  TRAFFIC STOPS  MULTI   \n",
       "\n",
       "                                         Description DataType  \\\n",
       "0  Standardized stop data from the Stanford Open ...      CSV   \n",
       "1  Standardized stop data from the Stanford Open ...      CSV   \n",
       "2  Standardized stop data from the Stanford Open ...      CSV   \n",
       "3  Standardized stop data from the Stanford Open ...      CSV   \n",
       "4  Standardized stop data from the Stanford Open ...      CSV   \n",
       "\n",
       "                                                 URL date_field dataset_id  \\\n",
       "0  https://stacks.stanford.edu/file/druid:yg821jf...       date       <NA>   \n",
       "1  https://stacks.stanford.edu/file/druid:yg821jf...       date       <NA>   \n",
       "2  https://stacks.stanford.edu/file/druid:yg821jf...       date       <NA>   \n",
       "3  https://stacks.stanford.edu/file/druid:yg821jf...       date       <NA>   \n",
       "4  https://stacks.stanford.edu/file/druid:yg821jf...       date       <NA>   \n",
       "\n",
       "  jurisdiction_field  \n",
       "0               <NA>  \n",
       "1               <NA>  \n",
       "2               <NA>  \n",
       "3               <NA>  \n",
       "4               <NA>  "
      ]
     },
     "execution_count": 3,
     "metadata": {},
     "output_type": "execute_result"
    }
   ],
   "source": [
    "datasets = opd.datasets_query()\n",
    "\n",
    "# datasets is a pandas DataFrame\n",
    "datasets.head()"
   ]
  },
  {
   "cell_type": "markdown",
   "metadata": {},
   "source": [
    "Query for all available datasets from Virginia"
   ]
  },
  {
   "cell_type": "code",
   "execution_count": 4,
   "metadata": {},
   "outputs": [
    {
     "data": {
      "text/html": [
       "<div>\n",
       "<style scoped>\n",
       "    .dataframe tbody tr th:only-of-type {\n",
       "        vertical-align: middle;\n",
       "    }\n",
       "\n",
       "    .dataframe tbody tr th {\n",
       "        vertical-align: top;\n",
       "    }\n",
       "\n",
       "    .dataframe thead th {\n",
       "        text-align: right;\n",
       "    }\n",
       "</style>\n",
       "<table border=\"1\" class=\"dataframe\">\n",
       "  <thead>\n",
       "    <tr style=\"text-align: right;\">\n",
       "      <th></th>\n",
       "      <th>State</th>\n",
       "      <th>SourceName</th>\n",
       "      <th>Jurisdiction</th>\n",
       "      <th>TableType</th>\n",
       "      <th>Year</th>\n",
       "      <th>Description</th>\n",
       "      <th>DataType</th>\n",
       "      <th>URL</th>\n",
       "      <th>date_field</th>\n",
       "      <th>dataset_id</th>\n",
       "      <th>jurisdiction_field</th>\n",
       "    </tr>\n",
       "  </thead>\n",
       "  <tbody>\n",
       "    <tr>\n",
       "      <th>179</th>\n",
       "      <td>Virginia</td>\n",
       "      <td>Fairfax County</td>\n",
       "      <td>Fairfax County</td>\n",
       "      <td>TRAFFIC CITATIONS</td>\n",
       "      <td>2019</td>\n",
       "      <td>Traffic Citations issued by Fairfax County Police</td>\n",
       "      <td>ArcGIS</td>\n",
       "      <td>https://services9.arcgis.com/kYvfX7YK8OobHItA/...</td>\n",
       "      <td>tc_date</td>\n",
       "      <td>&lt;NA&gt;</td>\n",
       "      <td>&lt;NA&gt;</td>\n",
       "    </tr>\n",
       "    <tr>\n",
       "      <th>180</th>\n",
       "      <td>Virginia</td>\n",
       "      <td>Fairfax County</td>\n",
       "      <td>Fairfax County</td>\n",
       "      <td>TRAFFIC CITATIONS</td>\n",
       "      <td>2020</td>\n",
       "      <td>Traffic Citations issued by Fairfax County Police</td>\n",
       "      <td>ArcGIS</td>\n",
       "      <td>https://services9.arcgis.com/kYvfX7YK8OobHItA/...</td>\n",
       "      <td>tc_date</td>\n",
       "      <td>&lt;NA&gt;</td>\n",
       "      <td>&lt;NA&gt;</td>\n",
       "    </tr>\n",
       "    <tr>\n",
       "      <th>181</th>\n",
       "      <td>Virginia</td>\n",
       "      <td>Fairfax County</td>\n",
       "      <td>Fairfax County</td>\n",
       "      <td>TRAFFIC WARNINGS</td>\n",
       "      <td>2019</td>\n",
       "      <td>Traffic Warnings issued by Fairfax County Police</td>\n",
       "      <td>ArcGIS</td>\n",
       "      <td>https://services9.arcgis.com/kYvfX7YK8OobHItA/...</td>\n",
       "      <td>actdate</td>\n",
       "      <td>&lt;NA&gt;</td>\n",
       "      <td>&lt;NA&gt;</td>\n",
       "    </tr>\n",
       "    <tr>\n",
       "      <th>182</th>\n",
       "      <td>Virginia</td>\n",
       "      <td>Fairfax County</td>\n",
       "      <td>Fairfax County</td>\n",
       "      <td>TRAFFIC WARNINGS</td>\n",
       "      <td>2020</td>\n",
       "      <td>Traffic Warnings issued by Fairfax County Police</td>\n",
       "      <td>ArcGIS</td>\n",
       "      <td>https://services9.arcgis.com/kYvfX7YK8OobHItA/...</td>\n",
       "      <td>actdate</td>\n",
       "      <td>&lt;NA&gt;</td>\n",
       "      <td>&lt;NA&gt;</td>\n",
       "    </tr>\n",
       "    <tr>\n",
       "      <th>183</th>\n",
       "      <td>Virginia</td>\n",
       "      <td>State Patrol</td>\n",
       "      <td>State Patrol</td>\n",
       "      <td>TRAFFIC STOPS</td>\n",
       "      <td>MULTI</td>\n",
       "      <td>Standardized stop data from the Stanford Open ...</td>\n",
       "      <td>CSV</td>\n",
       "      <td>https://stacks.stanford.edu/file/druid:yg821jf...</td>\n",
       "      <td>date</td>\n",
       "      <td>&lt;NA&gt;</td>\n",
       "      <td>&lt;NA&gt;</td>\n",
       "    </tr>\n",
       "    <tr>\n",
       "      <th>184</th>\n",
       "      <td>Virginia</td>\n",
       "      <td>Virginia</td>\n",
       "      <td>MULTI</td>\n",
       "      <td>STOPS</td>\n",
       "      <td>MULTI</td>\n",
       "      <td>A data collection consisting of all traffic an...</td>\n",
       "      <td>Socrata</td>\n",
       "      <td>data.virginia.gov</td>\n",
       "      <td>incident_date</td>\n",
       "      <td>2c96-texw</td>\n",
       "      <td>agency_name</td>\n",
       "    </tr>\n",
       "  </tbody>\n",
       "</table>\n",
       "</div>"
      ],
      "text/plain": [
       "        State      SourceName    Jurisdiction          TableType   Year  \\\n",
       "179  Virginia  Fairfax County  Fairfax County  TRAFFIC CITATIONS   2019   \n",
       "180  Virginia  Fairfax County  Fairfax County  TRAFFIC CITATIONS   2020   \n",
       "181  Virginia  Fairfax County  Fairfax County   TRAFFIC WARNINGS   2019   \n",
       "182  Virginia  Fairfax County  Fairfax County   TRAFFIC WARNINGS   2020   \n",
       "183  Virginia    State Patrol    State Patrol      TRAFFIC STOPS  MULTI   \n",
       "184  Virginia        Virginia           MULTI              STOPS  MULTI   \n",
       "\n",
       "                                           Description DataType  \\\n",
       "179  Traffic Citations issued by Fairfax County Police   ArcGIS   \n",
       "180  Traffic Citations issued by Fairfax County Police   ArcGIS   \n",
       "181   Traffic Warnings issued by Fairfax County Police   ArcGIS   \n",
       "182   Traffic Warnings issued by Fairfax County Police   ArcGIS   \n",
       "183  Standardized stop data from the Stanford Open ...      CSV   \n",
       "184  A data collection consisting of all traffic an...  Socrata   \n",
       "\n",
       "                                                   URL     date_field  \\\n",
       "179  https://services9.arcgis.com/kYvfX7YK8OobHItA/...        tc_date   \n",
       "180  https://services9.arcgis.com/kYvfX7YK8OobHItA/...        tc_date   \n",
       "181  https://services9.arcgis.com/kYvfX7YK8OobHItA/...        actdate   \n",
       "182  https://services9.arcgis.com/kYvfX7YK8OobHItA/...        actdate   \n",
       "183  https://stacks.stanford.edu/file/druid:yg821jf...           date   \n",
       "184                                  data.virginia.gov  incident_date   \n",
       "\n",
       "    dataset_id jurisdiction_field  \n",
       "179       <NA>               <NA>  \n",
       "180       <NA>               <NA>  \n",
       "181       <NA>               <NA>  \n",
       "182       <NA>               <NA>  \n",
       "183       <NA>               <NA>  \n",
       "184  2c96-texw        agency_name  "
      ]
     },
     "execution_count": 4,
     "metadata": {},
     "output_type": "execute_result"
    }
   ],
   "source": [
    "df = opd.datasets_query(state=\"Virginia\")\n",
    "df"
   ]
  },
  {
   "cell_type": "markdown",
   "metadata": {},
   "source": [
    "To access the data, create a source using a Source Name (usually a police department name). There is an optional state input to clarify ambiguities (usually unnecessary). Create a data source for Virginia. \n",
    "\n",
    "In July 2020, a law went into effect in Virginia requiring all police departments to collect data on traffic stops and report it to the state. In July 2021, this law was expanded to pedestrian stops and more types of data were required to be collected"
   ]
  },
  {
   "cell_type": "code",
   "execution_count": 5,
   "metadata": {},
   "outputs": [
    {
     "data": {
      "text/html": [
       "<div>\n",
       "<style scoped>\n",
       "    .dataframe tbody tr th:only-of-type {\n",
       "        vertical-align: middle;\n",
       "    }\n",
       "\n",
       "    .dataframe tbody tr th {\n",
       "        vertical-align: top;\n",
       "    }\n",
       "\n",
       "    .dataframe thead th {\n",
       "        text-align: right;\n",
       "    }\n",
       "</style>\n",
       "<table border=\"1\" class=\"dataframe\">\n",
       "  <thead>\n",
       "    <tr style=\"text-align: right;\">\n",
       "      <th></th>\n",
       "      <th>State</th>\n",
       "      <th>SourceName</th>\n",
       "      <th>Jurisdiction</th>\n",
       "      <th>TableType</th>\n",
       "      <th>Year</th>\n",
       "      <th>Description</th>\n",
       "      <th>DataType</th>\n",
       "      <th>URL</th>\n",
       "      <th>date_field</th>\n",
       "      <th>dataset_id</th>\n",
       "      <th>jurisdiction_field</th>\n",
       "    </tr>\n",
       "  </thead>\n",
       "  <tbody>\n",
       "    <tr>\n",
       "      <th>184</th>\n",
       "      <td>Virginia</td>\n",
       "      <td>Virginia</td>\n",
       "      <td>MULTI</td>\n",
       "      <td>STOPS</td>\n",
       "      <td>MULTI</td>\n",
       "      <td>A data collection consisting of all traffic an...</td>\n",
       "      <td>Socrata</td>\n",
       "      <td>data.virginia.gov</td>\n",
       "      <td>incident_date</td>\n",
       "      <td>2c96-texw</td>\n",
       "      <td>agency_name</td>\n",
       "    </tr>\n",
       "  </tbody>\n",
       "</table>\n",
       "</div>"
      ],
      "text/plain": [
       "        State SourceName Jurisdiction TableType   Year  \\\n",
       "184  Virginia   Virginia        MULTI     STOPS  MULTI   \n",
       "\n",
       "                                           Description DataType  \\\n",
       "184  A data collection consisting of all traffic an...  Socrata   \n",
       "\n",
       "                   URL     date_field dataset_id jurisdiction_field  \n",
       "184  data.virginia.gov  incident_date  2c96-texw        agency_name  "
      ]
     },
     "execution_count": 5,
     "metadata": {},
     "output_type": "execute_result"
    }
   ],
   "source": [
    "src = opd.Source(source_name=\"Virginia\")\n",
    "src.datasets"
   ]
  },
  {
   "cell_type": "markdown",
   "metadata": {},
   "source": [
    "For data spanning multiple years, there is a method for finding what years that data is available"
   ]
  },
  {
   "cell_type": "code",
   "execution_count": 6,
   "metadata": {},
   "outputs": [
    {
     "name": "stdout",
     "output_type": "stream",
     "text": [
      "[2020, 2021, 2022]\n"
     ]
    }
   ],
   "source": [
    "# Find out what years are available from the stops table\n",
    "years = src.get_years(table_type=\"STOPS\")\n",
    "print(years)"
   ]
  },
  {
   "cell_type": "markdown",
   "metadata": {},
   "source": [
    "If we want to analyze data for Charlottesville police department, we need to find the exact name of C'ville's PD"
   ]
  },
  {
   "cell_type": "code",
   "execution_count": 7,
   "metadata": {},
   "outputs": [
    {
     "name": "stdout",
     "output_type": "stream",
     "text": [
      "['Charlottesville Albemarle Airport Police Dept.', 'Charlottesville Police Department']\n"
     ]
    }
   ],
   "source": [
    "# Search for agencies containing \"Charlottesville\"\n",
    "agencies = src.get_agencies(partial_name=\"Charlottesville\")\n",
    "print(agencies)"
   ]
  },
  {
   "cell_type": "markdown",
   "metadata": {},
   "source": [
    "Now, let's load data from the source for 'Charlottesville Police Department'"
   ]
  },
  {
   "cell_type": "code",
   "execution_count": 8,
   "metadata": {},
   "outputs": [],
   "source": [
    "# Load data from the source for the Charlottesville Police Department in 2021\n",
    "agency = \"Charlottesville Police Department\"\n",
    "year = 2021\n",
    "t = src.load_from_url(year=year, table_type=opd.defs.TableTypes.STOPS, agency_field=agency)"
   ]
  },
  {
   "cell_type": "markdown",
   "metadata": {},
   "source": [
    "load_from_url returns an OpenPoliceData Table class. It has a property called table that is a pandas or geopandas DataFrame depending on whether the data contains geographic information"
   ]
  },
  {
   "cell_type": "code",
   "execution_count": 9,
   "metadata": {},
   "outputs": [
    {
     "name": "stdout",
     "output_type": "stream",
     "text": [
      "df is a <class 'pandas.core.frame.DataFrame'>.\n",
      "Charlottesville Police Department reported data for 2038 stops in 2021\n"
     ]
    }
   ],
   "source": [
    "# Make a copy so that any changes that we make to df do not affect t.table\n",
    "df = t.table.copy()\n",
    "\n",
    "print(f\"df is a {type(df)}.\")\n",
    "print(f\"{agency} reported data for {len(df)} stops in {year}\")"
   ]
  },
  {
   "cell_type": "code",
   "execution_count": 10,
   "metadata": {},
   "outputs": [
    {
     "data": {
      "text/html": [
       "<div>\n",
       "<style scoped>\n",
       "    .dataframe tbody tr th:only-of-type {\n",
       "        vertical-align: middle;\n",
       "    }\n",
       "\n",
       "    .dataframe tbody tr th {\n",
       "        vertical-align: top;\n",
       "    }\n",
       "\n",
       "    .dataframe thead th {\n",
       "        text-align: right;\n",
       "    }\n",
       "</style>\n",
       "<table border=\"1\" class=\"dataframe\">\n",
       "  <thead>\n",
       "    <tr style=\"text-align: right;\">\n",
       "      <th></th>\n",
       "      <th>incident_date</th>\n",
       "      <th>agency_name</th>\n",
       "      <th>jurisdiction</th>\n",
       "      <th>reason_for_stop</th>\n",
       "      <th>race</th>\n",
       "      <th>ethnicity</th>\n",
       "      <th>age</th>\n",
       "      <th>gender</th>\n",
       "      <th>action_taken</th>\n",
       "      <th>violation_type</th>\n",
       "      <th>specific_violation</th>\n",
       "      <th>person_searched</th>\n",
       "      <th>vehicle_searched</th>\n",
       "      <th>additional_arrest</th>\n",
       "      <th>person_type</th>\n",
       "      <th>english_speaking</th>\n",
       "      <th>virginia_crime_code</th>\n",
       "      <th>physical_force_by_officer</th>\n",
       "      <th>physical_force_by_subject</th>\n",
       "      <th>residency</th>\n",
       "    </tr>\n",
       "  </thead>\n",
       "  <tbody>\n",
       "    <tr>\n",
       "      <th>0</th>\n",
       "      <td>2021-01-01</td>\n",
       "      <td>Charlottesville Police Department</td>\n",
       "      <td>CHARLOTTESVILLE</td>\n",
       "      <td>EQUIPMENT VIOLATION</td>\n",
       "      <td>WHITE</td>\n",
       "      <td>NON-HISPANIC</td>\n",
       "      <td>40</td>\n",
       "      <td>FEMALE</td>\n",
       "      <td>WARNING</td>\n",
       "      <td>COMMONWEALTH</td>\n",
       "      <td>46.2-715</td>\n",
       "      <td>NO</td>\n",
       "      <td>NO</td>\n",
       "      <td>NO</td>\n",
       "      <td>NaN</td>\n",
       "      <td>NaN</td>\n",
       "      <td>NaN</td>\n",
       "      <td>NaN</td>\n",
       "      <td>NaN</td>\n",
       "      <td>NaN</td>\n",
       "    </tr>\n",
       "    <tr>\n",
       "      <th>1</th>\n",
       "      <td>2021-01-01</td>\n",
       "      <td>Charlottesville Police Department</td>\n",
       "      <td>CHARLOTTESVILLE</td>\n",
       "      <td>TRAFFIC VIOLATION</td>\n",
       "      <td>WHITE</td>\n",
       "      <td>NON-HISPANIC</td>\n",
       "      <td>23</td>\n",
       "      <td>MALE</td>\n",
       "      <td>WARNING</td>\n",
       "      <td>COMMONWEALTH</td>\n",
       "      <td>46.2-804</td>\n",
       "      <td>NO</td>\n",
       "      <td>NO</td>\n",
       "      <td>NO</td>\n",
       "      <td>NaN</td>\n",
       "      <td>NaN</td>\n",
       "      <td>NaN</td>\n",
       "      <td>NaN</td>\n",
       "      <td>NaN</td>\n",
       "      <td>NaN</td>\n",
       "    </tr>\n",
       "    <tr>\n",
       "      <th>2</th>\n",
       "      <td>2021-01-02</td>\n",
       "      <td>Charlottesville Police Department</td>\n",
       "      <td>CHARLOTTESVILLE</td>\n",
       "      <td>TRAFFIC VIOLATION</td>\n",
       "      <td>WHITE</td>\n",
       "      <td>UNKNOWN</td>\n",
       "      <td>56</td>\n",
       "      <td>MALE</td>\n",
       "      <td>WARNING</td>\n",
       "      <td>COMMONWEALTH</td>\n",
       "      <td>46.2-862</td>\n",
       "      <td>NO</td>\n",
       "      <td>NO</td>\n",
       "      <td>NO</td>\n",
       "      <td>NaN</td>\n",
       "      <td>NaN</td>\n",
       "      <td>NaN</td>\n",
       "      <td>NaN</td>\n",
       "      <td>NaN</td>\n",
       "      <td>NaN</td>\n",
       "    </tr>\n",
       "    <tr>\n",
       "      <th>3</th>\n",
       "      <td>2021-01-02</td>\n",
       "      <td>Charlottesville Police Department</td>\n",
       "      <td>CHARLOTTESVILLE</td>\n",
       "      <td>TRAFFIC VIOLATION</td>\n",
       "      <td>WHITE</td>\n",
       "      <td>UNKNOWN</td>\n",
       "      <td>32</td>\n",
       "      <td>MALE</td>\n",
       "      <td>WARNING</td>\n",
       "      <td>COMMONWEALTH</td>\n",
       "      <td>46.2-862</td>\n",
       "      <td>NO</td>\n",
       "      <td>NO</td>\n",
       "      <td>NO</td>\n",
       "      <td>NaN</td>\n",
       "      <td>NaN</td>\n",
       "      <td>NaN</td>\n",
       "      <td>NaN</td>\n",
       "      <td>NaN</td>\n",
       "      <td>NaN</td>\n",
       "    </tr>\n",
       "    <tr>\n",
       "      <th>4</th>\n",
       "      <td>2021-01-02</td>\n",
       "      <td>Charlottesville Police Department</td>\n",
       "      <td>CHARLOTTESVILLE</td>\n",
       "      <td>TRAFFIC VIOLATION</td>\n",
       "      <td>WHITE</td>\n",
       "      <td>UNKNOWN</td>\n",
       "      <td>18</td>\n",
       "      <td>MALE</td>\n",
       "      <td>WARNING</td>\n",
       "      <td>COMMONWEALTH</td>\n",
       "      <td>46.2-862</td>\n",
       "      <td>NO</td>\n",
       "      <td>NO</td>\n",
       "      <td>NO</td>\n",
       "      <td>NaN</td>\n",
       "      <td>NaN</td>\n",
       "      <td>NaN</td>\n",
       "      <td>NaN</td>\n",
       "      <td>NaN</td>\n",
       "      <td>NaN</td>\n",
       "    </tr>\n",
       "  </tbody>\n",
       "</table>\n",
       "</div>"
      ],
      "text/plain": [
       "  incident_date                        agency_name     jurisdiction  \\\n",
       "0    2021-01-01  Charlottesville Police Department  CHARLOTTESVILLE   \n",
       "1    2021-01-01  Charlottesville Police Department  CHARLOTTESVILLE   \n",
       "2    2021-01-02  Charlottesville Police Department  CHARLOTTESVILLE   \n",
       "3    2021-01-02  Charlottesville Police Department  CHARLOTTESVILLE   \n",
       "4    2021-01-02  Charlottesville Police Department  CHARLOTTESVILLE   \n",
       "\n",
       "       reason_for_stop   race     ethnicity age  gender action_taken  \\\n",
       "0  EQUIPMENT VIOLATION  WHITE  NON-HISPANIC  40  FEMALE      WARNING   \n",
       "1    TRAFFIC VIOLATION  WHITE  NON-HISPANIC  23    MALE      WARNING   \n",
       "2    TRAFFIC VIOLATION  WHITE       UNKNOWN  56    MALE      WARNING   \n",
       "3    TRAFFIC VIOLATION  WHITE       UNKNOWN  32    MALE      WARNING   \n",
       "4    TRAFFIC VIOLATION  WHITE       UNKNOWN  18    MALE      WARNING   \n",
       "\n",
       "  violation_type specific_violation person_searched vehicle_searched  \\\n",
       "0   COMMONWEALTH           46.2-715              NO               NO   \n",
       "1   COMMONWEALTH           46.2-804              NO               NO   \n",
       "2   COMMONWEALTH           46.2-862              NO               NO   \n",
       "3   COMMONWEALTH           46.2-862              NO               NO   \n",
       "4   COMMONWEALTH           46.2-862              NO               NO   \n",
       "\n",
       "  additional_arrest person_type english_speaking virginia_crime_code  \\\n",
       "0                NO         NaN              NaN                 NaN   \n",
       "1                NO         NaN              NaN                 NaN   \n",
       "2                NO         NaN              NaN                 NaN   \n",
       "3                NO         NaN              NaN                 NaN   \n",
       "4                NO         NaN              NaN                 NaN   \n",
       "\n",
       "  physical_force_by_officer physical_force_by_subject residency  \n",
       "0                       NaN                       NaN       NaN  \n",
       "1                       NaN                       NaN       NaN  \n",
       "2                       NaN                       NaN       NaN  \n",
       "3                       NaN                       NaN       NaN  \n",
       "4                       NaN                       NaN       NaN  "
      ]
     },
     "execution_count": 10,
     "metadata": {},
     "output_type": "execute_result"
    }
   ],
   "source": [
    "# Show the first 5 rows of the table\n",
    "df.head(n=5)"
   ]
  },
  {
   "cell_type": "markdown",
   "metadata": {},
   "source": [
    "The columns property of the DataFrame can be checked to see what types of data is available"
   ]
  },
  {
   "cell_type": "code",
   "execution_count": 11,
   "metadata": {},
   "outputs": [
    {
     "data": {
      "text/plain": [
       "Index(['incident_date', 'agency_name', 'jurisdiction', 'reason_for_stop',\n",
       "       'race', 'ethnicity', 'age', 'gender', 'action_taken', 'violation_type',\n",
       "       'specific_violation', 'person_searched', 'vehicle_searched',\n",
       "       'additional_arrest', 'person_type', 'english_speaking',\n",
       "       'virginia_crime_code', 'physical_force_by_officer',\n",
       "       'physical_force_by_subject', 'residency'],\n",
       "      dtype='object')"
      ]
     },
     "execution_count": 11,
     "metadata": {},
     "output_type": "execute_result"
    }
   ],
   "source": [
    "# What columns are in the table\n",
    "df.columns"
   ]
  },
  {
   "cell_type": "markdown",
   "metadata": {},
   "source": [
    "Race (Black, White, Asian, etc.) and ethnicity (usually Hispanic vs. Non-Hispanic) are in different columns in the dataset. However, in analysis, they are commonly analyzed as a single variable (Hispanic of all races, White Non-Hispanic, Black Non-Hispanic, etc.). \n",
    "\n",
    "Let's make a new column that is a combination of race and ethnicity"
   ]
  },
  {
   "cell_type": "code",
   "execution_count": 12,
   "metadata": {},
   "outputs": [
    {
     "data": {
      "text/plain": [
       "WHITE                        833\n",
       "UNKNOWN                      621\n",
       "BLACK OR AFRICAN AMERICAN    432\n",
       "HISPANIC                     107\n",
       "ASIAN/PACIFIC ISLANDER        37\n",
       "AMERICAN INDIAN                8\n",
       "Name: race_eth, dtype: int64"
      ]
     },
     "execution_count": 12,
     "metadata": {},
     "output_type": "execute_result"
    }
   ],
   "source": [
    "# First, create a new column called race_eth that initially has the same values as the race column\n",
    "df[\"race_eth\"] = df[\"race\"]\n",
    "\n",
    "# For all rows where the ethnicity is HISPANIC, set \"race_eth\" column to HISPANIC\n",
    "df.loc[df[\"ethnicity\"] == \"HISPANIC\", \"race_eth\"] = \"HISPANIC\"\n",
    "# For all rows where the ethnicity is UNKNOWN, set \"race_eth\" column to UNKNOWN\n",
    "df.loc[df[\"ethnicity\"] == \"UNKNOWN\", \"race_eth\"] = \"UNKNOWN\"\n",
    "\n",
    "# Show a table containing all unique values and how many of each value is in the data\n",
    "df[\"race_eth\"].value_counts()"
   ]
  },
  {
   "cell_type": "markdown",
   "metadata": {},
   "source": [
    "There are a lot of UNKNOWNs in our race/ethnicity column. This presents a potential data quality issue. Let's explore what's going on by looking at the race and ethnicity columns more closely.\n",
    "\n",
    "Let's first use groupby to group the rows based on their values in the race and ethnicity columns. For example, all rows where race is WHITE and ethnicity is NON-HISPANIC, will be placed in one bucket, all rows where race is BLACK and ethnicity is HISPANIC will be placed in another, etc. (for all combos of race and ethnicity)"
   ]
  },
  {
   "cell_type": "code",
   "execution_count": 13,
   "metadata": {},
   "outputs": [
    {
     "data": {
      "text/plain": [
       "pandas.core.groupby.generic.DataFrameGroupBy"
      ]
     },
     "execution_count": 13,
     "metadata": {},
     "output_type": "execute_result"
    }
   ],
   "source": [
    "groups = df.groupby([\"race\",\"ethnicity\"])\n",
    "type(groups)"
   ]
  },
  {
   "cell_type": "markdown",
   "metadata": {},
   "source": [
    "Next, we can apply a function to the groups. Let's use the size function to get how many stops fall in each bucket"
   ]
  },
  {
   "cell_type": "code",
   "execution_count": 14,
   "metadata": {},
   "outputs": [
    {
     "data": {
      "text/plain": [
       "race                       ethnicity   \n",
       "AMERICAN INDIAN            NON-HISPANIC      8\n",
       "                           UNKNOWN           1\n",
       "ASIAN/PACIFIC ISLANDER     NON-HISPANIC     37\n",
       "                           UNKNOWN          18\n",
       "BLACK OR AFRICAN AMERICAN  HISPANIC          7\n",
       "                           NON-HISPANIC    432\n",
       "                           UNKNOWN          94\n",
       "UNKNOWN                    HISPANIC         30\n",
       "                           NON-HISPANIC     59\n",
       "                           UNKNOWN          68\n",
       "WHITE                      HISPANIC         70\n",
       "                           NON-HISPANIC    833\n",
       "                           UNKNOWN         381\n",
       "dtype: int64"
      ]
     },
     "execution_count": 14,
     "metadata": {},
     "output_type": "execute_result"
    }
   ],
   "source": [
    "num_stops_by_race_eth = groups.size()\n",
    "num_stops_by_race_eth"
   ]
  },
  {
   "cell_type": "markdown",
   "metadata": {},
   "source": [
    "The above table would be easier to read if ethnicity were a column. We can do this with unstack "
   ]
  },
  {
   "cell_type": "code",
   "execution_count": 15,
   "metadata": {},
   "outputs": [
    {
     "data": {
      "text/html": [
       "<div>\n",
       "<style scoped>\n",
       "    .dataframe tbody tr th:only-of-type {\n",
       "        vertical-align: middle;\n",
       "    }\n",
       "\n",
       "    .dataframe tbody tr th {\n",
       "        vertical-align: top;\n",
       "    }\n",
       "\n",
       "    .dataframe thead th {\n",
       "        text-align: right;\n",
       "    }\n",
       "</style>\n",
       "<table border=\"1\" class=\"dataframe\">\n",
       "  <thead>\n",
       "    <tr style=\"text-align: right;\">\n",
       "      <th></th>\n",
       "      <th>HISPANIC</th>\n",
       "      <th>NON-HISPANIC</th>\n",
       "      <th>UNKNOWN</th>\n",
       "      <th>Percent Unknown</th>\n",
       "    </tr>\n",
       "    <tr>\n",
       "      <th>race</th>\n",
       "      <th></th>\n",
       "      <th></th>\n",
       "      <th></th>\n",
       "      <th></th>\n",
       "    </tr>\n",
       "  </thead>\n",
       "  <tbody>\n",
       "    <tr>\n",
       "      <th>AMERICAN INDIAN</th>\n",
       "      <td>&lt;NA&gt;</td>\n",
       "      <td>8</td>\n",
       "      <td>1</td>\n",
       "      <td>11.1</td>\n",
       "    </tr>\n",
       "    <tr>\n",
       "      <th>ASIAN/PACIFIC ISLANDER</th>\n",
       "      <td>&lt;NA&gt;</td>\n",
       "      <td>37</td>\n",
       "      <td>18</td>\n",
       "      <td>32.7</td>\n",
       "    </tr>\n",
       "    <tr>\n",
       "      <th>BLACK OR AFRICAN AMERICAN</th>\n",
       "      <td>7</td>\n",
       "      <td>432</td>\n",
       "      <td>94</td>\n",
       "      <td>17.6</td>\n",
       "    </tr>\n",
       "    <tr>\n",
       "      <th>UNKNOWN</th>\n",
       "      <td>30</td>\n",
       "      <td>59</td>\n",
       "      <td>68</td>\n",
       "      <td>43.3</td>\n",
       "    </tr>\n",
       "    <tr>\n",
       "      <th>WHITE</th>\n",
       "      <td>70</td>\n",
       "      <td>833</td>\n",
       "      <td>381</td>\n",
       "      <td>29.7</td>\n",
       "    </tr>\n",
       "  </tbody>\n",
       "</table>\n",
       "</div>"
      ],
      "text/plain": [
       "                           HISPANIC  NON-HISPANIC  UNKNOWN  Percent Unknown\n",
       "race                                                                       \n",
       "AMERICAN INDIAN                <NA>             8        1             11.1\n",
       "ASIAN/PACIFIC ISLANDER         <NA>            37       18             32.7\n",
       "BLACK OR AFRICAN AMERICAN         7           432       94             17.6\n",
       "UNKNOWN                          30            59       68             43.3\n",
       "WHITE                            70           833      381             29.7"
      ]
     },
     "execution_count": 15,
     "metadata": {},
     "output_type": "execute_result"
    }
   ],
   "source": [
    "df_stops_by_race_eth = num_stops_by_race_eth.unstack(\"ethnicity\")\n",
    "# Ensure that counts are integers\n",
    "df_stops_by_race_eth = df_stops_by_race_eth.convert_dtypes(int)\n",
    "\n",
    "# Let's calculate what percentage of ethnicity values are UNKNOWN for each race by adding a column and doing some math\n",
    "df_stops_by_race_eth[\"Percent Unknown\"] = np.round(df_stops_by_race_eth[\"UNKNOWN\"]/df_stops_by_race_eth.sum(axis=1)*100,1)\n",
    "\n",
    "df_stops_by_race_eth"
   ]
  },
  {
   "cell_type": "markdown",
   "metadata": {},
   "source": [
    "Most of the UNKNOWNs in our race_eth column are due to UNKNOWNs in the ethnicity column. Let's try looking at the number UNKNOWNs in the ethnicity column over the course of 2021."
   ]
  },
  {
   "cell_type": "code",
   "execution_count": 21,
   "metadata": {},
   "outputs": [
    {
     "data": {
      "text/plain": [
       "Text(0.5, 1.0, '# of Unknown Ethnicities in Charlottesville by Month')"
      ]
     },
     "execution_count": 21,
     "metadata": {},
     "output_type": "execute_result"
    },
    {
     "data": {
      "image/png": "[encoded data removed]",
      "text/plain": [
       "<Figure size 432x288 with 1 Axes>"
      ]
     },
     "metadata": {
      "needs_background": "light"
     },
     "output_type": "display_data"
    }
   ],
   "source": [
    "# Create a month category\n",
    "# OPD automatically converts known date columns to numpy.datetime64 objects\n",
    "# dt provides access to the underlying datetime\n",
    "# to_period(\"M\") converts the dates to Year-Month format\n",
    "df[\"month\"] = df[\"incident_date\"].dt.to_period(\"M\")\n",
    "\n",
    "a = df.groupby([\"month\",\"ethnicity\"]).size().unstack(\"ethnicity\")\n",
    "ax = a.plot(y=\"UNKNOWN\", grid=True)\n",
    "ax.set_ylabel(\"Count\")\n",
    "ax.set_title(\"# of Unknown Ethnicities in Charlottesville by Month\")"
   ]
  },
  {
   "cell_type": "markdown",
   "metadata": {},
   "source": [
    "It appears that the number of Unknowns drops off dramatically in July 2021. There may have been a slow rollout in complying with the Virginia Community Policing Act.\n",
    "\n",
    "For a final example, let's look at police department that implemented data collection a little earlier and makes more stops. Let's do a comparison of search rates in Fairfax County broken down by race and ethnicity for 2021."
   ]
  },
  {
   "cell_type": "code",
   "execution_count": 22,
   "metadata": {},
   "outputs": [
    {
     "data": {
      "text/html": [
       "<div>\n",
       "<style scoped>\n",
       "    .dataframe tbody tr th:only-of-type {\n",
       "        vertical-align: middle;\n",
       "    }\n",
       "\n",
       "    .dataframe tbody tr th {\n",
       "        vertical-align: top;\n",
       "    }\n",
       "\n",
       "    .dataframe thead th {\n",
       "        text-align: right;\n",
       "    }\n",
       "</style>\n",
       "<table border=\"1\" class=\"dataframe\">\n",
       "  <thead>\n",
       "    <tr style=\"text-align: right;\">\n",
       "      <th>race_eth</th>\n",
       "      <th>AMERICAN INDIAN</th>\n",
       "      <th>ASIAN/PACIFIC ISLANDER</th>\n",
       "      <th>BLACK OR AFRICAN AMERICAN</th>\n",
       "      <th>HISPANIC</th>\n",
       "      <th>UNKNOWN</th>\n",
       "      <th>WHITE</th>\n",
       "    </tr>\n",
       "    <tr>\n",
       "      <th>person_searched</th>\n",
       "      <th></th>\n",
       "      <th></th>\n",
       "      <th></th>\n",
       "      <th></th>\n",
       "      <th></th>\n",
       "      <th></th>\n",
       "    </tr>\n",
       "  </thead>\n",
       "  <tbody>\n",
       "    <tr>\n",
       "      <th>NO</th>\n",
       "      <td>57</td>\n",
       "      <td>1031</td>\n",
       "      <td>2492</td>\n",
       "      <td>2768</td>\n",
       "      <td>2089</td>\n",
       "      <td>5690</td>\n",
       "    </tr>\n",
       "    <tr>\n",
       "      <th>YES</th>\n",
       "      <td>1</td>\n",
       "      <td>49</td>\n",
       "      <td>320</td>\n",
       "      <td>456</td>\n",
       "      <td>5</td>\n",
       "      <td>297</td>\n",
       "    </tr>\n",
       "  </tbody>\n",
       "</table>\n",
       "</div>"
      ],
      "text/plain": [
       "race_eth         AMERICAN INDIAN  ASIAN/PACIFIC ISLANDER  \\\n",
       "person_searched                                            \n",
       "NO                            57                    1031   \n",
       "YES                            1                      49   \n",
       "\n",
       "race_eth         BLACK OR AFRICAN AMERICAN  HISPANIC  UNKNOWN  WHITE  \n",
       "person_searched                                                       \n",
       "NO                                    2492      2768     2089   5690  \n",
       "YES                                    320       456        5    297  "
      ]
     },
     "execution_count": 22,
     "metadata": {},
     "output_type": "execute_result"
    }
   ],
   "source": [
    "agency_comp = \"Fairfax County Police Department\"\n",
    "t_ffx = src.load_from_url(year=year, table_type=opd.defs.TableTypes.STOPS, agency=agency_comp)\n",
    "df_ffx = t_ffx.table.copy()\n",
    "\n",
    "# Create combined race/ethnicity category\n",
    "df_ffx[\"race_eth\"] = df_ffx[\"race\"]\n",
    "\n",
    "# For all rows where the ethnicity is HISPANIC, set \"race_eth\" column to HISPANIC\n",
    "df_ffx.loc[df_ffx[\"ethnicity\"] == \"HISPANIC\", \"race_eth\"] = \"HISPANIC\"\n",
    "# For all rows where the ethnicity is UNKNOWN, set \"race_eth\" column to UNKNOWN\n",
    "df_ffx.loc[df_ffx[\"ethnicity\"] == \"UNKNOWN\", \"race_eth\"] = \"UNKNOWN\"\n",
    "\n",
    "# Group by whether the person was searched and race/ethnicity\n",
    "searches = df_ffx.groupby([\"person_searched\",\"race_eth\"]).size().unstack(\"race_eth\")\n",
    "\n",
    "searches"
   ]
  },
  {
   "cell_type": "code",
   "execution_count": 23,
   "metadata": {},
   "outputs": [
    {
     "data": {
      "text/html": [
       "<div>\n",
       "<style scoped>\n",
       "    .dataframe tbody tr th:only-of-type {\n",
       "        vertical-align: middle;\n",
       "    }\n",
       "\n",
       "    .dataframe tbody tr th {\n",
       "        vertical-align: top;\n",
       "    }\n",
       "\n",
       "    .dataframe thead th {\n",
       "        text-align: right;\n",
       "    }\n",
       "</style>\n",
       "<table border=\"1\" class=\"dataframe\">\n",
       "  <thead>\n",
       "    <tr style=\"text-align: right;\">\n",
       "      <th></th>\n",
       "      <th># of Stops</th>\n",
       "      <th># of Searches</th>\n",
       "      <th>% of Stops With Search</th>\n",
       "    </tr>\n",
       "    <tr>\n",
       "      <th>race_eth</th>\n",
       "      <th></th>\n",
       "      <th></th>\n",
       "      <th></th>\n",
       "    </tr>\n",
       "  </thead>\n",
       "  <tbody>\n",
       "    <tr>\n",
       "      <th>AMERICAN INDIAN</th>\n",
       "      <td>58</td>\n",
       "      <td>1</td>\n",
       "      <td>1.7</td>\n",
       "    </tr>\n",
       "    <tr>\n",
       "      <th>ASIAN/PACIFIC ISLANDER</th>\n",
       "      <td>1080</td>\n",
       "      <td>49</td>\n",
       "      <td>4.5</td>\n",
       "    </tr>\n",
       "    <tr>\n",
       "      <th>BLACK OR AFRICAN AMERICAN</th>\n",
       "      <td>2812</td>\n",
       "      <td>320</td>\n",
       "      <td>11.4</td>\n",
       "    </tr>\n",
       "    <tr>\n",
       "      <th>HISPANIC</th>\n",
       "      <td>3224</td>\n",
       "      <td>456</td>\n",
       "      <td>14.1</td>\n",
       "    </tr>\n",
       "    <tr>\n",
       "      <th>UNKNOWN</th>\n",
       "      <td>2094</td>\n",
       "      <td>5</td>\n",
       "      <td>0.2</td>\n",
       "    </tr>\n",
       "    <tr>\n",
       "      <th>WHITE</th>\n",
       "      <td>5987</td>\n",
       "      <td>297</td>\n",
       "      <td>5.0</td>\n",
       "    </tr>\n",
       "  </tbody>\n",
       "</table>\n",
       "</div>"
      ],
      "text/plain": [
       "                           # of Stops  # of Searches  % of Stops With Search\n",
       "race_eth                                                                    \n",
       "AMERICAN INDIAN                    58              1                     1.7\n",
       "ASIAN/PACIFIC ISLANDER           1080             49                     4.5\n",
       "BLACK OR AFRICAN AMERICAN        2812            320                    11.4\n",
       "HISPANIC                         3224            456                    14.1\n",
       "UNKNOWN                          2094              5                     0.2\n",
       "WHITE                            5987            297                     5.0"
      ]
     },
     "execution_count": 23,
     "metadata": {},
     "output_type": "execute_result"
    }
   ],
   "source": [
    "# The number of searches is the sum of each column\n",
    "number_of_stops = searches.sum()\n",
    "# The number of searches is the number of Yes's for each group\n",
    "number_of_searches = searches.loc[\"YES\"]\n",
    "\n",
    "# Calculate the search rate (% of people search over total people stopped)\n",
    "percent_stops_with_search = np.round(number_of_searches/number_of_stops*100,1)\n",
    "\n",
    "# Create a DataFrame out of the 3 metrics calculated above\n",
    "searches_df = pd.DataFrame([number_of_stops, number_of_searches, percent_stops_with_search], \n",
    "    index=[\"# of Stops\", \"# of Searches\", \"% of Stops With Search\"])\n",
    "searches_df = searches_df.transpose()\n",
    "searches_df[\"# of Stops\"] = searches_df[\"# of Stops\"].astype(int)\n",
    "searches_df[\"# of Searches\"] = searches_df[\"# of Searches\"].astype(int)\n",
    "# searches.dropna(inplace=True)\n",
    "searches_df"
   ]
  },
  {
   "cell_type": "code",
   "execution_count": 24,
   "metadata": {},
   "outputs": [
    {
     "data": {
      "text/plain": [
       "Text(0.5, 1.0, 'Percentage of Stops Where the Person is Searched')"
      ]
     },
     "execution_count": 24,
     "metadata": {},
     "output_type": "execute_result"
    },
    {
     "data": {
      "image/png": "[encoded data removed]",
      "text/plain": [
       "<Figure size 432x288 with 1 Axes>"
      ]
     },
     "metadata": {
      "needs_background": "light"
     },
     "output_type": "display_data"
    }
   ],
   "source": [
    "ax = searches_df.plot.barh(y=\"% of Stops With Search\", grid=True, legend=False)\n",
    "ax.set_ylabel(\"\")\n",
    "ax.set_xlabel(\"Percentage\")\n",
    "ax.set_title(\"Percentage of Stops Where the Person is Searched\")"
   ]
  },
  {
   "cell_type": "code",
   "execution_count": null,
   "metadata": {},
   "outputs": [],
   "source": []
  }
 ],
 "metadata": {
  "interpreter": {
   "hash": "dfa86b6347a3abf699952ea95d2b25c38dfd56b59595f3474089f93f25f7abe9"
  },
  "kernelspec": {
   "display_name": ".venv",
   "language": "python",
   "name": "python3"
  },
  "language_info": {
   "codemirror_mode": {
    "name": "ipython",
    "version": 3
   },
   "file_extension": ".py",
   "mimetype": "text/x-python",
   "name": "python",
   "nbconvert_exporter": "python",
   "pygments_lexer": "ipython3",
   "version": "3.9.7"
  },
  "orig_nbformat": 4
 },
 "nbformat": 4,
 "nbformat_minor": 2
}
